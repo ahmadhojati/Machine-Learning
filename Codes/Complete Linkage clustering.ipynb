{
 "cells": [
  {
   "cell_type": "markdown",
   "metadata": {},
   "source": [
    "# Complete Linkage clustering"
   ]
  },
  {
   "cell_type": "markdown",
   "metadata": {},
   "source": [
    "### Load libraries"
   ]
  },
  {
   "cell_type": "code",
   "execution_count": 1,
   "metadata": {},
   "outputs": [],
   "source": [
    "import numpy as np\n",
    "import pandas as pd\n",
    "import matplotlib.pyplot as plt\n",
    "from scipy.spatial import distance\n",
    "from sklearn.model_selection import train_test_split\n",
    "import warnings\n",
    "warnings.filterwarnings('ignore')"
   ]
  },
  {
   "cell_type": "markdown",
   "metadata": {},
   "source": [
    "### Distance function"
   ]
  },
  {
   "cell_type": "code",
   "execution_count": 2,
   "metadata": {},
   "outputs": [],
   "source": [
    "def dist(cls1,cls2):\n",
    "    far_dist = -np.inf\n",
    "    # for each point in each cluster\n",
    "    for row1 in cls1:\n",
    "        for row2 in cls2:\n",
    "            # make sure that our furthest distance holds the maximum distance betweeen the clusters at focus\n",
    "            if far_dist < distance.euclidean(row1,row2):\n",
    "                far_dist = distance.euclidean(row1,row2)\n",
    "    return far_dist"
   ]
  },
  {
   "cell_type": "markdown",
   "metadata": {},
   "source": [
    "### Complete linkage function"
   ]
  },
  {
   "cell_type": "code",
   "execution_count": 3,
   "metadata": {},
   "outputs": [],
   "source": [
    "def complete_linkage(cls ,n_cls):\n",
    "    while (len(cls)-n_cls != 0):\n",
    "        # Clustering\n",
    "        close_dist = np.inf\n",
    "        clust_1 = clust_2 = None\n",
    "        # for every cluster (until second last element)\n",
    "        for id1, cls1 in enumerate(cls[:len(cls)]): \n",
    "            for id2, cls2 in enumerate(cls[(id1 + 1):]):\n",
    "                far_dist = dist(cls1,cls2)\n",
    "                if far_dist < close_dist:\n",
    "                    clust_1 = id1\n",
    "                    clust_2 = id1 + id2 + 1\n",
    "                    close_dist = far_dist\n",
    "               # extend just appends the contents to the list without flattening it out\n",
    "        cls[clust_1].extend(cls[clust_2]) \n",
    "        # don't need this index anymore, and we have just clustered once more\n",
    "        cls.pop(clust_2) \n",
    "    return cls"
   ]
  },
  {
   "cell_type": "markdown",
   "metadata": {},
   "source": [
    "### Hierarchical function"
   ]
  },
  {
   "cell_type": "code",
   "execution_count": 4,
   "metadata": {},
   "outputs": [],
   "source": [
    "def hierarchical(df, n_cls):\n",
    "    d = df.values\n",
    "    init = []\n",
    "    for row in d:\n",
    "        init.append([row.tolist()])\n",
    "    return complete_linkage(init, n_cls)"
   ]
  },
  {
   "cell_type": "markdown",
   "metadata": {},
   "source": [
    "### Load the data"
   ]
  },
  {
   "cell_type": "code",
   "execution_count": 5,
   "metadata": {},
   "outputs": [],
   "source": [
    "data = pd.read_csv('data_mvnorm2mix.csv',names=['x0', 'x1'])\n",
    "X_train, X_test= train_test_split(np.array(data),  test_size=0.1, random_state=1234)\n",
    "df = pd.DataFrame(X_test,columns=['x0', 'x1'])"
   ]
  },
  {
   "cell_type": "markdown",
   "metadata": {},
   "source": [
    "### Clustering"
   ]
  },
  {
   "cell_type": "code",
   "execution_count": 6,
   "metadata": {},
   "outputs": [
    {
     "data": {
      "image/png": "[encoded data removed]",
      "text/plain": [
       "<Figure size 1080x720 with 1 Axes>"
      ]
     },
     "metadata": {
      "needs_background": "light"
     },
     "output_type": "display_data"
    }
   ],
   "source": [
    "clusters = hierarchical(df,2)\n",
    "colors = ['orange', 'blue']\n",
    "plt.figure(figsize=(15,10))\n",
    "for cluster_index, cluster in enumerate(clusters):\n",
    "    for point in cluster:\n",
    "        plt.plot([point[0]], [point[1]], marker='^', markersize=10, color=colors[cluster_index])"
   ]
  }
 ],
 "metadata": {
  "kernelspec": {
   "display_name": "Python 3",
   "language": "python",
   "name": "python3"
  },
  "language_info": {
   "codemirror_mode": {
    "name": "ipython",
    "version": 3
   },
   "file_extension": ".py",
   "mimetype": "text/x-python",
   "name": "python",
   "nbconvert_exporter": "python",
   "pygments_lexer": "ipython3",
   "version": "3.7.3"
  },
  "toc": {
   "base_numbering": 1,
   "nav_menu": {},
   "number_sections": true,
   "sideBar": true,
   "skip_h1_title": false,
   "title_cell": "Table of Contents",
   "title_sidebar": "Contents",
   "toc_cell": false,
   "toc_position": {},
   "toc_section_display": true,
   "toc_window_display": false
  },
  "varInspector": {
   "cols": {
    "lenName": 16,
    "lenType": 16,
    "lenVar": 40
   },
   "kernels_config": {
    "python": {
     "delete_cmd_postfix": "",
     "delete_cmd_prefix": "del ",
     "library": "var_list.py",
     "varRefreshCmd": "print(var_dic_list())"
    },
    "r": {
     "delete_cmd_postfix": ") ",
     "delete_cmd_prefix": "rm(",
     "library": "var_list.r",
     "varRefreshCmd": "cat(var_dic_list()) "
    }
   },
   "types_to_exclude": [
    "module",
    "function",
    "builtin_function_or_method",
    "instance",
    "_Feature"
   ],
   "window_display": false
  }
 },
 "nbformat": 4,
 "nbformat_minor": 2
}
