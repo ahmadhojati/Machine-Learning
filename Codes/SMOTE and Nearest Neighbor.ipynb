{
 "cells": [
  {
   "cell_type": "markdown",
   "metadata": {},
   "source": [
    "### SMOTE and Nearest Neighbor "
   ]
  },
  {
   "cell_type": "markdown",
   "metadata": {},
   "source": [
    "### Load libraries"
   ]
  },
  {
   "cell_type": "code",
   "execution_count": 1,
   "metadata": {},
   "outputs": [],
   "source": [
    "import matplotlib.pyplot as plt\n",
    "import numpy as np\n",
    "import random\n",
    "from sklearn.linear_model import LogisticRegression\n",
    "from sklearn.preprocessing import StandardScaler\n",
    "from sklearn.datasets import load_iris\n",
    "from sklearn.model_selection import train_test_split\n",
    "from sklearn.neighbors import NearestNeighbors\n",
    "from sklearn.metrics import classification_report\n",
    "import warnings\n",
    "warnings.filterwarnings('ignore')"
   ]
  },
  {
   "cell_type": "markdown",
   "metadata": {},
   "source": [
    "For oversampling the imbalanced datasets we can use Markov Chain sampling methods like Rejection Sampling, in which we need to define an envelope that totaly covers the target distribution and generate samples from known envelope distribution and keep those below the target probability distribution function. Another method would be Sampling Importance Resampling (SIR) method in which First, a sample is drawn from a proposal distribution and then from this a smaller sample is drawn with sample probabilities proportional to the importance ratios. In both cases the target distribution function should be available then we need to use another oversampling technique.\n",
    "However, the method I used here is an oversampling method called Synthetic Minority Oversampling Technique (SMOTE). SMOTE works by selecting examples that are close in the feature space, drawing a line between the examples in the feature space and drawing a new sample at a point along that line.\n"
   ]
  },
  {
   "cell_type": "markdown",
   "metadata": {},
   "source": [
    "### Load the data"
   ]
  },
  {
   "cell_type": "code",
   "execution_count": 2,
   "metadata": {},
   "outputs": [],
   "source": [
    "iris = load_iris()\n",
    "X = iris.data\n",
    "y = iris.target \n",
    "y[y != 0]=1    # Iris-Setosa vs. others\n",
    "X_train, X_test, y_train, y_test = train_test_split(X, y, test_size=0.3, random_state=1234)\n"
   ]
  },
  {
   "cell_type": "markdown",
   "metadata": {},
   "source": [
    "### Nearest Neighbor function"
   ]
  },
  {
   "cell_type": "code",
   "execution_count": 3,
   "metadata": {},
   "outputs": [],
   "source": [
    "def nearest_neighbour(X):\n",
    "    nbrs = NearestNeighbors(n_neighbors=2, algorithm='ball_tree').fit(X)\n",
    "    distances, indices = nbrs.kneighbors(X)\n",
    "    weight = np.random.uniform(low=0.001, high=1.0, size=X.shape[0])\n",
    "    additive = distances[:,1]*weight\n",
    "    return additive"
   ]
  },
  {
   "cell_type": "markdown",
   "metadata": {},
   "source": [
    "### Synthetic Minority Oversampling TEchnique (SMOTE) function"
   ]
  },
  {
   "cell_type": "code",
   "execution_count": 4,
   "metadata": {},
   "outputs": [],
   "source": [
    "def SMOTE(X,y):\n",
    "    # finding the lables and the shape of the classes\n",
    "    unique, counts = np.unique(y, return_counts=True)\n",
    "    \n",
    "    # which class is the minority\n",
    "    r = np.where(counts == np.min(counts))\n",
    "    \n",
    "    # The number of Majority and Minority classes\n",
    "    minority_count = dict(zip(unique, counts))[0]\n",
    "    majority_count = dict(zip(unique, counts))[1]\n",
    "    \n",
    "    # Separating the minority class for further analysis\n",
    "    x = X[y==r[0]]\n",
    "       \n",
    "    # ratio and remainder of the number of majority over minority classs \n",
    "    n = majority_count//minority_count\n",
    "    m = majority_count%minority_count\n",
    "    \n",
    "    # Zeros matrix for the results\n",
    "    X_n = np.zeros(((n-1)*minority_count,x.shape[1]))\n",
    "    \n",
    "    for i in range(n-1):\n",
    "        X_n[i*minority_count:(i+1)*minority_count,:] = (x + nearest_neighbour(x).reshape(len(x),1))\n",
    "    \n",
    "    # If we have remainder\n",
    "    if m != 0:\n",
    "        rows = random.sample(range(0, len(x)), m)\n",
    "        X_m =  x[rows,:] + nearest_neighbour(x[rows,:]).reshape(len(x[rows,:]),1)\n",
    "        X_n = np.concatenate((X_n, X_m), axis=0)\n",
    "        \n",
    "    # Concatenate the produced observationes to the original observations    \n",
    "    X_new = np.concatenate((X,X_n), axis = 0)\n",
    "    \n",
    "    # Setting class lables If 0 is the minority class\n",
    "    if r[0] ==0:\n",
    "        y_new = np.concatenate((y,np.zeros(len(X_n))), axis=0)\n",
    "    # If 1 is minority class    \n",
    "    else:\n",
    "        y_new = np.concatenate((y,np.ones(len(X_n))), axis=0)\n",
    "        \n",
    "    return  X_new, y_new # the synthetic samples created by SMOTE"
   ]
  },
  {
   "cell_type": "markdown",
   "metadata": {},
   "source": [
    "### Creating balance dataset"
   ]
  },
  {
   "cell_type": "code",
   "execution_count": 5,
   "metadata": {},
   "outputs": [],
   "source": [
    "X_new, y_new = SMOTE(X_train,y_train)"
   ]
  },
  {
   "cell_type": "markdown",
   "metadata": {},
   "source": [
    "### Lets see the count of two classes in new dataset"
   ]
  },
  {
   "cell_type": "code",
   "execution_count": 6,
   "metadata": {},
   "outputs": [
    {
     "name": "stdout",
     "output_type": "stream",
     "text": [
      "unique: [0. 1.]\n",
      "counts: [71 71]\n"
     ]
    }
   ],
   "source": [
    "unique, counts = np.unique(y_new, return_counts=True)\n",
    "print('unique:',unique)\n",
    "print('counts:',counts)"
   ]
  },
  {
   "cell_type": "markdown",
   "metadata": {},
   "source": [
    "### We fit logistic regression to the new data and report the result on unbalanced test data"
   ]
  },
  {
   "cell_type": "code",
   "execution_count": 7,
   "metadata": {},
   "outputs": [
    {
     "name": "stdout",
     "output_type": "stream",
     "text": [
      "              precision    recall  f1-score   support\n",
      "\n",
      "           0       1.00      1.00      1.00        16\n",
      "           1       1.00      1.00      1.00        29\n",
      "\n",
      "    accuracy                           1.00        45\n",
      "   macro avg       1.00      1.00      1.00        45\n",
      "weighted avg       1.00      1.00      1.00        45\n",
      "\n"
     ]
    }
   ],
   "source": [
    "X_train_std = StandardScaler().fit_transform(X_new)\n",
    "X_test_std = StandardScaler().fit_transform(X_test)\n",
    "lg= LogisticRegression().fit(X_train_std, y_new)\n",
    "\n",
    "y_pred= lg.predict(X_test_std)\n",
    "classificationReport = classification_report(y_test, y_pred)\n",
    "print(classificationReport)"
   ]
  }
 ],
 "metadata": {
  "kernelspec": {
   "display_name": "Python 3",
   "language": "python",
   "name": "python3"
  },
  "language_info": {
   "codemirror_mode": {
    "name": "ipython",
    "version": 3
   },
   "file_extension": ".py",
   "mimetype": "text/x-python",
   "name": "python",
   "nbconvert_exporter": "python",
   "pygments_lexer": "ipython3",
   "version": "3.7.3"
  },
  "toc": {
   "base_numbering": 1,
   "nav_menu": {},
   "number_sections": true,
   "sideBar": true,
   "skip_h1_title": false,
   "title_cell": "Table of Contents",
   "title_sidebar": "Contents",
   "toc_cell": false,
   "toc_position": {},
   "toc_section_display": true,
   "toc_window_display": false
  },
  "varInspector": {
   "cols": {
    "lenName": 16,
    "lenType": 16,
    "lenVar": 40
   },
   "kernels_config": {
    "python": {
     "delete_cmd_postfix": "",
     "delete_cmd_prefix": "del ",
     "library": "var_list.py",
     "varRefreshCmd": "print(var_dic_list())"
    },
    "r": {
     "delete_cmd_postfix": ") ",
     "delete_cmd_prefix": "rm(",
     "library": "var_list.r",
     "varRefreshCmd": "cat(var_dic_list()) "
    }
   },
   "types_to_exclude": [
    "module",
    "function",
    "builtin_function_or_method",
    "instance",
    "_Feature"
   ],
   "window_display": false
  }
 },
 "nbformat": 4,
 "nbformat_minor": 2
}
