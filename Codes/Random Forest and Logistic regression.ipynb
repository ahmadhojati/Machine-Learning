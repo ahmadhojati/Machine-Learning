{
 "cells": [
  {
   "cell_type": "markdown",
   "metadata": {},
   "source": [
    "# Random Forest and Logistic regression "
   ]
  },
  {
   "cell_type": "markdown",
   "metadata": {},
   "source": [
    "### Load libraries"
   ]
  },
  {
   "cell_type": "code",
   "execution_count": 1,
   "metadata": {},
   "outputs": [],
   "source": [
    "import pandas as pd\n",
    "import matplotlib.pyplot as plt\n",
    "import numpy as np\n",
    "from sklearn.ensemble import ExtraTreesClassifier\n",
    "from sklearn.preprocessing import StandardScaler\n",
    "from sklearn.model_selection import train_test_split\n",
    "from sklearn.linear_model import LogisticRegression\n",
    "from sklearn.feature_selection import SelectFromModel\n",
    "import warnings\n",
    "warnings.filterwarnings('ignore')"
   ]
  },
  {
   "cell_type": "markdown",
   "metadata": {},
   "source": [
    "### Load the data"
   ]
  },
  {
   "cell_type": "code",
   "execution_count": 2,
   "metadata": {},
   "outputs": [
    {
     "data": {
      "text/html": [
       "<div>\n",
       "<style scoped>\n",
       "    .dataframe tbody tr th:only-of-type {\n",
       "        vertical-align: middle;\n",
       "    }\n",
       "\n",
       "    .dataframe tbody tr th {\n",
       "        vertical-align: top;\n",
       "    }\n",
       "\n",
       "    .dataframe thead th {\n",
       "        text-align: right;\n",
       "    }\n",
       "</style>\n",
       "<table border=\"1\" class=\"dataframe\">\n",
       "  <thead>\n",
       "    <tr style=\"text-align: right;\">\n",
       "      <th></th>\n",
       "      <th>VZmax</th>\n",
       "      <th>VPzabove1</th>\n",
       "      <th>VPzabove3</th>\n",
       "      <th>VPzabove4</th>\n",
       "      <th>VZq90</th>\n",
       "      <th>VZq95</th>\n",
       "      <th>VFHD</th>\n",
       "      <th>VSlope</th>\n",
       "      <th>VAspect</th>\n",
       "      <th>Depth</th>\n",
       "    </tr>\n",
       "  </thead>\n",
       "  <tbody>\n",
       "    <tr>\n",
       "      <td>0</td>\n",
       "      <td>20.200</td>\n",
       "      <td>99.752129</td>\n",
       "      <td>88.107317</td>\n",
       "      <td>81.332597</td>\n",
       "      <td>15.9854</td>\n",
       "      <td>17.2050</td>\n",
       "      <td>2.536217</td>\n",
       "      <td>17.752318</td>\n",
       "      <td>172.106556</td>\n",
       "      <td>0.607861</td>\n",
       "    </tr>\n",
       "    <tr>\n",
       "      <td>1</td>\n",
       "      <td>9.410</td>\n",
       "      <td>97.875464</td>\n",
       "      <td>59.896416</td>\n",
       "      <td>43.401041</td>\n",
       "      <td>6.5660</td>\n",
       "      <td>7.3340</td>\n",
       "      <td>2.008234</td>\n",
       "      <td>1.222789</td>\n",
       "      <td>169.351610</td>\n",
       "      <td>1.000316</td>\n",
       "    </tr>\n",
       "    <tr>\n",
       "      <td>2</td>\n",
       "      <td>19.564</td>\n",
       "      <td>99.810375</td>\n",
       "      <td>96.153325</td>\n",
       "      <td>84.653935</td>\n",
       "      <td>17.2290</td>\n",
       "      <td>17.8950</td>\n",
       "      <td>2.255792</td>\n",
       "      <td>2.839515</td>\n",
       "      <td>166.139445</td>\n",
       "      <td>0.884730</td>\n",
       "    </tr>\n",
       "    <tr>\n",
       "      <td>3</td>\n",
       "      <td>14.431</td>\n",
       "      <td>97.085151</td>\n",
       "      <td>59.967064</td>\n",
       "      <td>41.881313</td>\n",
       "      <td>7.4800</td>\n",
       "      <td>8.3000</td>\n",
       "      <td>1.568804</td>\n",
       "      <td>22.447919</td>\n",
       "      <td>310.658943</td>\n",
       "      <td>0.948709</td>\n",
       "    </tr>\n",
       "    <tr>\n",
       "      <td>4</td>\n",
       "      <td>25.519</td>\n",
       "      <td>99.001252</td>\n",
       "      <td>73.539449</td>\n",
       "      <td>66.172511</td>\n",
       "      <td>18.1640</td>\n",
       "      <td>20.3701</td>\n",
       "      <td>3.031498</td>\n",
       "      <td>15.289915</td>\n",
       "      <td>161.095405</td>\n",
       "      <td>0.691791</td>\n",
       "    </tr>\n",
       "  </tbody>\n",
       "</table>\n",
       "</div>"
      ],
      "text/plain": [
       "    VZmax  VPzabove1  VPzabove3  VPzabove4    VZq90    VZq95      VFHD  \\\n",
       "0  20.200  99.752129  88.107317  81.332597  15.9854  17.2050  2.536217   \n",
       "1   9.410  97.875464  59.896416  43.401041   6.5660   7.3340  2.008234   \n",
       "2  19.564  99.810375  96.153325  84.653935  17.2290  17.8950  2.255792   \n",
       "3  14.431  97.085151  59.967064  41.881313   7.4800   8.3000  1.568804   \n",
       "4  25.519  99.001252  73.539449  66.172511  18.1640  20.3701  3.031498   \n",
       "\n",
       "      VSlope     VAspect     Depth  \n",
       "0  17.752318  172.106556  0.607861  \n",
       "1   1.222789  169.351610  1.000316  \n",
       "2   2.839515  166.139445  0.884730  \n",
       "3  22.447919  310.658943  0.948709  \n",
       "4  15.289915  161.095405  0.691791  "
      ]
     },
     "execution_count": 2,
     "metadata": {},
     "output_type": "execute_result"
    }
   ],
   "source": [
    "data=pd.read_csv('data_snow_tree.csv')\n",
    "data.head()"
   ]
  },
  {
   "cell_type": "markdown",
   "metadata": {},
   "source": [
    "As the snow depth is continuous data, we assign class labels to the snow depth by average depth increase and make binary class.\n"
   ]
  },
  {
   "cell_type": "code",
   "execution_count": 3,
   "metadata": {},
   "outputs": [],
   "source": [
    "y = np.array(data['Depth'])\n",
    "X = np.array(data.iloc[:,:9])\n",
    "\n",
    "cls = y>np.mean(y)\n",
    "y = cls*1"
   ]
  },
  {
   "cell_type": "markdown",
   "metadata": {},
   "source": [
    "### Standardizing the features value"
   ]
  },
  {
   "cell_type": "code",
   "execution_count": 4,
   "metadata": {},
   "outputs": [],
   "source": [
    "X_std = StandardScaler().fit_transform(X)"
   ]
  },
  {
   "cell_type": "markdown",
   "metadata": {},
   "source": [
    "### Feature Importance with forests of trees\n",
    "\n",
    "#### Mean decrease impurity"
   ]
  },
  {
   "cell_type": "code",
   "execution_count": 5,
   "metadata": {},
   "outputs": [
    {
     "name": "stdout",
     "output_type": "stream",
     "text": [
      "Feature ranking:\n",
      "1. feature VZmax (0.138479)\n",
      "2. feature VZq95 (0.124037)\n",
      "3. feature VZq90 (0.121860)\n",
      "4. feature VPzabove4 (0.107653)\n",
      "5. feature VPzabove1 (0.107287)\n",
      "6. feature VFHD (0.102611)\n",
      "7. feature VAspect (0.102163)\n",
      "8. feature VPzabove3 (0.099955)\n",
      "9. feature VSlope (0.095955)\n"
     ]
    },
    {
     "data": {
      "image/png": "[encoded data removed]",
      "text/plain": [
       "<Figure size 1440x720 with 1 Axes>"
      ]
     },
     "metadata": {
      "needs_background": "light"
     },
     "output_type": "display_data"
    }
   ],
   "source": [
    "# Build a forest and compute the feature importances\n",
    "forest = ExtraTreesClassifier(n_estimators=250,random_state=1234)\n",
    "\n",
    "forest.fit(X_std, y)\n",
    "importances = forest.feature_importances_\n",
    "std = np.std([tree.feature_importances_ for tree in forest.estimators_],axis=0)\n",
    "indices = np.argsort(importances)[::-1]\n",
    "\n",
    "names = list(data.columns)\n",
    "# Print the feature ranking\n",
    "print(\"Feature ranking:\")\n",
    "\n",
    "for f in range(X_std.shape[1]):\n",
    "    print(\"%d. feature %s (%f)\" % (f + 1, names[indices[f]], importances[indices[f]]))\n",
    "\n",
    "# Plot the feature importances of the forest\n",
    "plt.figure(figsize=(20,10))\n",
    "plt.title(\"Feature importances\",fontsize=20)\n",
    "plt.bar(names[0:-1], importances,color=\"r\", yerr=std[indices], align=\"center\")\n",
    "# plt.xticks(range(X_std.shape[1]), names[indices])\n",
    "plt.xlim([-1, X_std.shape[1]])\n",
    "plt.show()"
   ]
  },
  {
   "cell_type": "markdown",
   "metadata": {},
   "source": [
    "Feature importance is important in a model prediction and provides insight into the data, the model, and is the basis for dimensionality reduction and feature selection that can improve the efficiency of a model prediction. In case we have dependent features we can apply PCA on those datasets to have independent features and use the transformed data (reduced features) in modeling but PCA does not show which of those original features are more effective in our estimation.\n",
    "\n",
    "There are a few things to keep in mind when using the impurity based ranking. Firstly, feature selection based on impurity reduction is biased towards preferring variables with more categories. Secondly, when the dataset has two (or more) correlated features, then from the point of view of the model, any of these correlated features can be used as the predictor, with no concrete preference of one over the others. But once one of them is used, the importance of others is significantly reduced since effectively the impurity they can remove is already removed by the first feature. As a consequence, they will have a lower reported importance. This is not an issue when we want to use feature selection to reduce overfitting, since it makes sense to remove features that are mostly duplicated by other features. But when interpreting the data, it can lead to the incorrect conclusion that one of the variables is a strong predictor while the others in the same group are unimportant, while actually they are very close in terms of their relationship with the response variable."
   ]
  },
  {
   "cell_type": "markdown",
   "metadata": {},
   "source": [
    "### Logistic Regression Feature Importance"
   ]
  },
  {
   "cell_type": "code",
   "execution_count": 6,
   "metadata": {},
   "outputs": [
    {
     "data": {
      "image/png": "[encoded data removed]",
      "text/plain": [
       "<Figure size 1440x720 with 1 Axes>"
      ]
     },
     "metadata": {
      "needs_background": "light"
     },
     "output_type": "display_data"
    }
   ],
   "source": [
    "# List of feature names \n",
    "names = list(data.columns)\n",
    "\n",
    "# split the data to train and test\n",
    "X_train, X_test, y_train, y_test = train_test_split(data.drop(labels=['Depth'], axis=1),y,test_size=0.3,random_state=1234)\n",
    "\n",
    "# Standardize the data\n",
    "X_std = StandardScaler().fit_transform(X_train)\n",
    "\n",
    "# logistic regression fit with Ridge regularisation\n",
    "lg = SelectFromModel(LogisticRegression(C=1, penalty='l2'))\n",
    "lg.fit(X_std, y_train)\n",
    "\n",
    "# Coefficients\n",
    "importance = lg.estimator_.coef_[0]\n",
    "\n",
    "# plot feature importance\n",
    "plt.figure(figsize=(20,10))\n",
    "plt.title(\"Coefficients (W) of the Logistic Regression\",fontsize=20)\n",
    "plt.bar(names[0:-1], importance, color='r')\n",
    "plt.show()"
   ]
  },
  {
   "cell_type": "markdown",
   "metadata": {},
   "source": [
    "Random Forest works well for nonlinear cases, but in logistic regression we need to have linear model.\n",
    "Correlated features in Random Forest will be given equal or similar importance, but overall reduced importance compared to the same tree built without correlated counterparts. RF and Logistic Regression methods result are different for feature importance and that's because our data features are highly correlated. "
   ]
  }
 ],
 "metadata": {
  "kernelspec": {
   "display_name": "Python 3",
   "language": "python",
   "name": "python3"
  },
  "language_info": {
   "codemirror_mode": {
    "name": "ipython",
    "version": 3
   },
   "file_extension": ".py",
   "mimetype": "text/x-python",
   "name": "python",
   "nbconvert_exporter": "python",
   "pygments_lexer": "ipython3",
   "version": "3.7.3"
  },
  "toc": {
   "base_numbering": 1,
   "nav_menu": {},
   "number_sections": true,
   "sideBar": true,
   "skip_h1_title": false,
   "title_cell": "Table of Contents",
   "title_sidebar": "Contents",
   "toc_cell": false,
   "toc_position": {},
   "toc_section_display": true,
   "toc_window_display": false
  },
  "varInspector": {
   "cols": {
    "lenName": 16,
    "lenType": 16,
    "lenVar": 40
   },
   "kernels_config": {
    "python": {
     "delete_cmd_postfix": "",
     "delete_cmd_prefix": "del ",
     "library": "var_list.py",
     "varRefreshCmd": "print(var_dic_list())"
    },
    "r": {
     "delete_cmd_postfix": ") ",
     "delete_cmd_prefix": "rm(",
     "library": "var_list.r",
     "varRefreshCmd": "cat(var_dic_list()) "
    }
   },
   "types_to_exclude": [
    "module",
    "function",
    "builtin_function_or_method",
    "instance",
    "_Feature"
   ],
   "window_display": false
  }
 },
 "nbformat": 4,
 "nbformat_minor": 2
}
